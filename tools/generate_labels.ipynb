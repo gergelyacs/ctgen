{
 "cells": [
  {
   "cell_type": "code",
   "execution_count": 4,
   "metadata": {},
   "outputs": [
    {
     "name": "stdout",
     "output_type": "stream",
     "text": [
      "Index(['ID', 'pH', 'BDecf', 'pCO2', 'BE', 'Apgar1', 'Apgar5', 'NICU days',\n",
      "       'Seizures', 'HIE', 'Intubation', 'Main diag.', 'Other diag.',\n",
      "       'Gest. weeks', 'Weight(g)', 'Sex', 'Age', 'Gravidity', 'Parity',\n",
      "       'Diabetes', 'Hypertension', 'Preeclampsia', 'Liq.', 'Pyrexia',\n",
      "       'Meconium', 'Presentation', 'Induced', 'I.stage', 'NoProgress', 'CK/KP',\n",
      "       'II.stage', 'Deliv. type', 'dbID', 'Rec. type', 'Pos. II.st.',\n",
      "       'Sig2Birth'],\n",
      "      dtype='object')\n"
     ]
    }
   ],
   "source": [
    "import pandas as pd\n",
    "\n",
    "training_folder = \"../training_data/\"\n",
    "\n",
    "# open pandas dataframe\n",
    "df = pd.read_csv(training_folder + \"czech_ann_db.csv\")\n",
    "\n",
    "# print columns\n",
    "print (df.columns)\n"
   ]
  },
  {
   "cell_type": "code",
   "execution_count": 5,
   "metadata": {},
   "outputs": [
    {
     "name": "stdout",
     "output_type": "stream",
     "text": [
      "Gravidity\n",
      "1.0     435\n",
      "2.0      57\n",
      "3.0      29\n",
      "4.0      14\n",
      "5.0       8\n",
      "7.0       2\n",
      "8.0       1\n",
      "11.0      1\n",
      "6.0       1\n",
      "Name: count, dtype: int64\n",
      "Sex\n",
      "1    286\n",
      "2    266\n",
      "Name: count, dtype: int64\n",
      "Deliv. type\n",
      "1    506\n",
      "2     46\n",
      "Name: count, dtype: int64\n"
     ]
    }
   ],
   "source": [
    "\n",
    "attr = ['Gravidity', 'Sex', 'Deliv. type']\n",
    "\n",
    "# create a dictionary with the values of the attributes\n",
    "for a in attr:\n",
    "    print (df[a].value_counts()) \n"
   ]
  },
  {
   "cell_type": "code",
   "execution_count": 6,
   "metadata": {},
   "outputs": [
    {
     "name": "stdout",
     "output_type": "stream",
     "text": [
      "      Gravidity  Sex  Deliv. type\n",
      "ID                               \n",
      "1220          1    1            0\n",
      "1234          0    0            0\n",
      "1208          0    1            0\n",
      "1038          0    0            0\n",
      "1004          0    0            0\n"
     ]
    }
   ],
   "source": [
    "# create labels for each patient based on Gravidity\n",
    "# 0: Gravidity = 1\n",
    "# 1: Gravidity = 2\n",
    "# 2: Gravidity = 3\n",
    "# 3: Gravidity = 4\n",
    "# 4: Gravidity >= 5\n",
    "\n",
    "df['Gravidity'] = df['Gravidity'].map(lambda x: int(x) - 1 if x < 5 else 4)\n",
    "\n",
    "# create labels for each patient based on delivery\n",
    "# 0: 1\n",
    "# 1: 2\n",
    "\n",
    "df['Deliv. type'] = df['Deliv. type'].map(lambda x: int(x) - 1)\n",
    "\n",
    "# create labels for each patient based on sex\n",
    "# 0 : 1\n",
    "# 1 : 2\n",
    "\n",
    "df['Sex'] = df['Sex'].map(lambda x: int(x) - 1)\n",
    "\n",
    "# create new table with only the columns we need\n",
    "df_new = df[['ID'] + attr]\n",
    "# patient_id is index\n",
    "df_new.set_index('ID', inplace=True)\n",
    "\n",
    "# first 5 rows\n",
    "print (df_new.head())\n",
    "\n",
    "# save the new table to a csv file\n",
    "df_new.to_csv(training_folder + \"czech_labels.csv\")\n"
   ]
  }
 ],
 "metadata": {
  "kernelspec": {
   "display_name": "venv",
   "language": "python",
   "name": "python3"
  },
  "language_info": {
   "codemirror_mode": {
    "name": "ipython",
    "version": 3
   },
   "file_extension": ".py",
   "mimetype": "text/x-python",
   "name": "python",
   "nbconvert_exporter": "python",
   "pygments_lexer": "ipython3",
   "version": "3.10.12"
  }
 },
 "nbformat": 4,
 "nbformat_minor": 2
}
